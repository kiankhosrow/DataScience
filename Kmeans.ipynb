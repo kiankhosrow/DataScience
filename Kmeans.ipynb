{
 "cells": [
  {
   "cell_type": "code",
   "execution_count": 99,
   "metadata": {},
   "outputs": [],
   "source": [
    "import pandas as pd"
   ]
  },
  {
   "cell_type": "code",
   "execution_count": 100,
   "metadata": {},
   "outputs": [],
   "source": [
    "mydata=pd.read_excel(\"edit.xlsx\") \n"
   ]
  },
  {
   "cell_type": "code",
   "execution_count": 101,
   "metadata": {},
   "outputs": [],
   "source": [
    "import matplotlib.pyplot as plt"
   ]
  },
  {
   "cell_type": "code",
   "execution_count": 102,
   "metadata": {},
   "outputs": [
    {
     "data": {
      "image/png": "[encoded data removed]",
      "text/plain": [
       "<Figure size 432x288 with 1 Axes>"
      ]
     },
     "metadata": {
      "needs_background": "light"
     },
     "output_type": "display_data"
    }
   ],
   "source": [
    "plt.scatter(mydata['total_covid_19_tests'],mydata['confirmed'])\n",
    "plt.show()"
   ]
  },
  {
   "cell_type": "code",
   "execution_count": 103,
   "metadata": {},
   "outputs": [],
   "source": [
    "from sklearn.cluster import KMeans\n",
    "from sklearn.preprocessing import MinMaxScaler"
   ]
  },
  {
   "cell_type": "code",
   "execution_count": 104,
   "metadata": {},
   "outputs": [
    {
     "data": {
      "text/plain": [
       "KMeans(algorithm='auto', copy_x=True, init='k-means++', max_iter=300,\n",
       "       n_clusters=5, n_init=10, n_jobs=None, precompute_distances='auto',\n",
       "       random_state=None, tol=0.0001, verbose=0)"
      ]
     },
     "execution_count": 104,
     "metadata": {},
     "output_type": "execute_result"
    }
   ],
   "source": [
    "km = KMeans(n_clusters=5)\n",
    "km"
   ]
  },
  {
   "cell_type": "code",
   "execution_count": 105,
   "metadata": {},
   "outputs": [],
   "source": [
    "mydata=mydata.fillna(0)"
   ]
  },
  {
   "cell_type": "code",
   "execution_count": 106,
   "metadata": {},
   "outputs": [],
   "source": [
    "cluster=km.fit_predict(mydata[[\"total_covid_19_tests\",\"confirmed\"]])"
   ]
  },
  {
   "cell_type": "code",
   "execution_count": 107,
   "metadata": {},
   "outputs": [],
   "source": [
    "mydata['cluster']=cluster"
   ]
  },
  {
   "cell_type": "code",
   "execution_count": 114,
   "metadata": {},
   "outputs": [
    {
     "data": {
      "text/plain": [
       "<matplotlib.collections.PathCollection at 0x7fc975958590>"
      ]
     },
     "execution_count": 114,
     "metadata": {},
     "output_type": "execute_result"
    },
    {
     "data": {
      "image/png": "[encoded data removed]",
      "text/plain": [
       "<Figure size 432x288 with 1 Axes>"
      ]
     },
     "metadata": {
      "needs_background": "light"
     },
     "output_type": "display_data"
    }
   ],
   "source": [
    "df0=mydata[mydata.cluster==0]\n",
    "df1=mydata[mydata.cluster==1]\n",
    "df2=mydata[mydata.cluster==2]\n",
    "df3=mydata[mydata.cluster==3]\n",
    "df4=mydata[mydata.cluster==4]\n",
    "\n",
    "\n",
    "plt.scatter(df0.total_covid_19_tests,df0.confirmed,color='green')\n",
    "plt.scatter(df2.total_covid_19_tests,df2.confirmed,color='red')\n",
    "plt.scatter(df3.total_covid_19_tests,df3.confirmed,color='blue')\n",
    "plt.scatter(df4.total_covid_19_tests,df4.confirmed,color='yellow')\n",
    "plt.scatter(df1.total_covid_19_tests,df1.confirmed,color='black')\n",
    "\n",
    "\n",
    "\n",
    "\n"
   ]
  },
  {
   "cell_type": "code",
   "execution_count": 115,
   "metadata": {},
   "outputs": [
    {
     "data": {
      "text/html": [
       "<div>\n",
       "<style scoped>\n",
       "    .dataframe tbody tr th:only-of-type {\n",
       "        vertical-align: middle;\n",
       "    }\n",
       "\n",
       "    .dataframe tbody tr th {\n",
       "        vertical-align: top;\n",
       "    }\n",
       "\n",
       "    .dataframe thead th {\n",
       "        text-align: right;\n",
       "    }\n",
       "</style>\n",
       "<table border=\"1\" class=\"dataframe\">\n",
       "  <thead>\n",
       "    <tr style=\"text-align: right;\">\n",
       "      <th></th>\n",
       "      <th>lat</th>\n",
       "      <th>long</th>\n",
       "      <th>total_covid_19_tests</th>\n",
       "      <th>confirmed</th>\n",
       "      <th>deaths</th>\n",
       "      <th>recovered</th>\n",
       "      <th>active</th>\n",
       "      <th>inform_risk</th>\n",
       "      <th>inform_p2p_hazard_and_exposure_dimension</th>\n",
       "      <th>population_density</th>\n",
       "      <th>...</th>\n",
       "      <th>inform_vulnerability</th>\n",
       "      <th>inform_health_conditions</th>\n",
       "      <th>inform_epidemic_vulnerability</th>\n",
       "      <th>prevalence_of_undernourishment</th>\n",
       "      <th>inform_lack_of_coping_capacity</th>\n",
       "      <th>inform_access_to_healthcare</th>\n",
       "      <th>inform_epidemic_lack_of_coping_capacity</th>\n",
       "      <th>physicians_density</th>\n",
       "      <th>current_health_expenditure_per_capita</th>\n",
       "      <th>maternal_mortality_ratio</th>\n",
       "    </tr>\n",
       "    <tr>\n",
       "      <th>cluster</th>\n",
       "      <th></th>\n",
       "      <th></th>\n",
       "      <th></th>\n",
       "      <th></th>\n",
       "      <th></th>\n",
       "      <th></th>\n",
       "      <th></th>\n",
       "      <th></th>\n",
       "      <th></th>\n",
       "      <th></th>\n",
       "      <th></th>\n",
       "      <th></th>\n",
       "      <th></th>\n",
       "      <th></th>\n",
       "      <th></th>\n",
       "      <th></th>\n",
       "      <th></th>\n",
       "      <th></th>\n",
       "      <th></th>\n",
       "      <th></th>\n",
       "      <th></th>\n",
       "    </tr>\n",
       "  </thead>\n",
       "  <tbody>\n",
       "    <tr>\n",
       "      <th>0</th>\n",
       "      <td>18.020388</td>\n",
       "      <td>15.627211</td>\n",
       "      <td>0.003718</td>\n",
       "      <td>0.004100</td>\n",
       "      <td>65.404908</td>\n",
       "      <td>231.085890</td>\n",
       "      <td>1037.852761</td>\n",
       "      <td>0.426994</td>\n",
       "      <td>0.476687</td>\n",
       "      <td>20.428957</td>\n",
       "      <td>...</td>\n",
       "      <td>0.382209</td>\n",
       "      <td>0.139264</td>\n",
       "      <td>0.678528</td>\n",
       "      <td>0.708589</td>\n",
       "      <td>0.401227</td>\n",
       "      <td>0.372393</td>\n",
       "      <td>0.326380</td>\n",
       "      <td>2.712883</td>\n",
       "      <td>276.571595</td>\n",
       "      <td>6.766871</td>\n",
       "    </tr>\n",
       "    <tr>\n",
       "      <th>1</th>\n",
       "      <td>40.000000</td>\n",
       "      <td>-100.000000</td>\n",
       "      <td>1.000000</td>\n",
       "      <td>1.000000</td>\n",
       "      <td>9267.000000</td>\n",
       "      <td>16820.000000</td>\n",
       "      <td>0.000000</td>\n",
       "      <td>3.400000</td>\n",
       "      <td>2.800000</td>\n",
       "      <td>35.770000</td>\n",
       "      <td>...</td>\n",
       "      <td>2.900000</td>\n",
       "      <td>0.100000</td>\n",
       "      <td>5.700000</td>\n",
       "      <td>2.400000</td>\n",
       "      <td>2.100000</td>\n",
       "      <td>1.100000</td>\n",
       "      <td>1.100000</td>\n",
       "      <td>25.950000</td>\n",
       "      <td>9869.740000</td>\n",
       "      <td>14.000000</td>\n",
       "    </tr>\n",
       "    <tr>\n",
       "      <th>2</th>\n",
       "      <td>38.964033</td>\n",
       "      <td>68.342870</td>\n",
       "      <td>0.357854</td>\n",
       "      <td>0.184371</td>\n",
       "      <td>5312.666667</td>\n",
       "      <td>24010.666667</td>\n",
       "      <td>30632.166667</td>\n",
       "      <td>2.850000</td>\n",
       "      <td>3.466667</td>\n",
       "      <td>186.901667</td>\n",
       "      <td>...</td>\n",
       "      <td>2.133333</td>\n",
       "      <td>0.516667</td>\n",
       "      <td>4.683333</td>\n",
       "      <td>3.450000</td>\n",
       "      <td>2.633333</td>\n",
       "      <td>1.483333</td>\n",
       "      <td>3.916667</td>\n",
       "      <td>31.203333</td>\n",
       "      <td>2339.303333</td>\n",
       "      <td>13.000000</td>\n",
       "    </tr>\n",
       "    <tr>\n",
       "      <th>3</th>\n",
       "      <td>39.687499</td>\n",
       "      <td>16.212823</td>\n",
       "      <td>0.105983</td>\n",
       "      <td>0.064339</td>\n",
       "      <td>1234.750000</td>\n",
       "      <td>2603.666667</td>\n",
       "      <td>16154.083333</td>\n",
       "      <td>2.183333</td>\n",
       "      <td>3.075000</td>\n",
       "      <td>125.935833</td>\n",
       "      <td>...</td>\n",
       "      <td>2.266667</td>\n",
       "      <td>0.175000</td>\n",
       "      <td>5.091667</td>\n",
       "      <td>2.791667</td>\n",
       "      <td>2.108333</td>\n",
       "      <td>1.116667</td>\n",
       "      <td>2.975000</td>\n",
       "      <td>32.797500</td>\n",
       "      <td>4098.886667</td>\n",
       "      <td>7.500000</td>\n",
       "    </tr>\n",
       "    <tr>\n",
       "      <th>4</th>\n",
       "      <td>51.165700</td>\n",
       "      <td>10.451500</td>\n",
       "      <td>0.742186</td>\n",
       "      <td>0.303739</td>\n",
       "      <td>1527.000000</td>\n",
       "      <td>28700.000000</td>\n",
       "      <td>68545.000000</td>\n",
       "      <td>2.000000</td>\n",
       "      <td>2.800000</td>\n",
       "      <td>237.370000</td>\n",
       "      <td>...</td>\n",
       "      <td>3.400000</td>\n",
       "      <td>0.100000</td>\n",
       "      <td>5.200000</td>\n",
       "      <td>2.400000</td>\n",
       "      <td>1.500000</td>\n",
       "      <td>0.400000</td>\n",
       "      <td>4.000000</td>\n",
       "      <td>42.090000</td>\n",
       "      <td>5463.330000</td>\n",
       "      <td>6.000000</td>\n",
       "    </tr>\n",
       "  </tbody>\n",
       "</table>\n",
       "<p>5 rows × 22 columns</p>\n",
       "</div>"
      ],
      "text/plain": [
       "               lat        long  total_covid_19_tests  confirmed       deaths  \\\n",
       "cluster                                                                        \n",
       "0        18.020388   15.627211              0.003718   0.004100    65.404908   \n",
       "1        40.000000 -100.000000              1.000000   1.000000  9267.000000   \n",
       "2        38.964033   68.342870              0.357854   0.184371  5312.666667   \n",
       "3        39.687499   16.212823              0.105983   0.064339  1234.750000   \n",
       "4        51.165700   10.451500              0.742186   0.303739  1527.000000   \n",
       "\n",
       "            recovered        active  inform_risk  \\\n",
       "cluster                                            \n",
       "0          231.085890   1037.852761     0.426994   \n",
       "1        16820.000000      0.000000     3.400000   \n",
       "2        24010.666667  30632.166667     2.850000   \n",
       "3         2603.666667  16154.083333     2.183333   \n",
       "4        28700.000000  68545.000000     2.000000   \n",
       "\n",
       "         inform_p2p_hazard_and_exposure_dimension  population_density  ...  \\\n",
       "cluster                                                                ...   \n",
       "0                                        0.476687           20.428957  ...   \n",
       "1                                        2.800000           35.770000  ...   \n",
       "2                                        3.466667          186.901667  ...   \n",
       "3                                        3.075000          125.935833  ...   \n",
       "4                                        2.800000          237.370000  ...   \n",
       "\n",
       "         inform_vulnerability  inform_health_conditions  \\\n",
       "cluster                                                   \n",
       "0                    0.382209                  0.139264   \n",
       "1                    2.900000                  0.100000   \n",
       "2                    2.133333                  0.516667   \n",
       "3                    2.266667                  0.175000   \n",
       "4                    3.400000                  0.100000   \n",
       "\n",
       "         inform_epidemic_vulnerability  prevalence_of_undernourishment  \\\n",
       "cluster                                                                  \n",
       "0                             0.678528                        0.708589   \n",
       "1                             5.700000                        2.400000   \n",
       "2                             4.683333                        3.450000   \n",
       "3                             5.091667                        2.791667   \n",
       "4                             5.200000                        2.400000   \n",
       "\n",
       "         inform_lack_of_coping_capacity  inform_access_to_healthcare  \\\n",
       "cluster                                                                \n",
       "0                              0.401227                     0.372393   \n",
       "1                              2.100000                     1.100000   \n",
       "2                              2.633333                     1.483333   \n",
       "3                              2.108333                     1.116667   \n",
       "4                              1.500000                     0.400000   \n",
       "\n",
       "         inform_epidemic_lack_of_coping_capacity  physicians_density  \\\n",
       "cluster                                                                \n",
       "0                                       0.326380            2.712883   \n",
       "1                                       1.100000           25.950000   \n",
       "2                                       3.916667           31.203333   \n",
       "3                                       2.975000           32.797500   \n",
       "4                                       4.000000           42.090000   \n",
       "\n",
       "         current_health_expenditure_per_capita  maternal_mortality_ratio  \n",
       "cluster                                                                   \n",
       "0                                   276.571595                  6.766871  \n",
       "1                                  9869.740000                 14.000000  \n",
       "2                                  2339.303333                 13.000000  \n",
       "3                                  4098.886667                  7.500000  \n",
       "4                                  5463.330000                  6.000000  \n",
       "\n",
       "[5 rows x 22 columns]"
      ]
     },
     "execution_count": 115,
     "metadata": {},
     "output_type": "execute_result"
    }
   ],
   "source": [
    "mydata.groupby(\"cluster\").mean()"
   ]
  },
  {
   "cell_type": "code",
   "execution_count": 116,
   "metadata": {},
   "outputs": [],
   "source": [
    "scalar=MinMaxScaler()\n",
    "\n",
    "scalar.fit(mydata[[\"confirmed\"]])\n",
    "mydata['confirmed']=scalar.transform(mydata[[\"confirmed\"]])\n",
    "\n",
    "\n",
    "scalar.fit(mydata[[\"total_covid_19_tests\"]])\n",
    "mydata['total_covid_19_tests']=scalar.transform(mydata[[\"total_covid_19_tests\"]])"
   ]
  },
  {
   "cell_type": "code",
   "execution_count": 117,
   "metadata": {},
   "outputs": [],
   "source": [
    "cluster=km.fit_predict(mydata[[\"total_covid_19_tests\",\"confirmed\"]])"
   ]
  },
  {
   "cell_type": "code",
   "execution_count": 118,
   "metadata": {},
   "outputs": [],
   "source": [
    "mydata['cluster']=cluster"
   ]
  },
  {
   "cell_type": "code",
   "execution_count": 119,
   "metadata": {},
   "outputs": [
    {
     "data": {
      "text/plain": [
       "<matplotlib.collections.PathCollection at 0x7fc97876c950>"
      ]
     },
     "execution_count": 119,
     "metadata": {},
     "output_type": "execute_result"
    },
    {
     "data": {
      "image/png": "[encoded data removed]",
      "text/plain": [
       "<Figure size 432x288 with 1 Axes>"
      ]
     },
     "metadata": {
      "needs_background": "light"
     },
     "output_type": "display_data"
    }
   ],
   "source": [
    "df0=mydata[mydata.cluster==0]\n",
    "df1=mydata[mydata.cluster==1]\n",
    "df2=mydata[mydata.cluster==2]\n",
    "df3=mydata[mydata.cluster==3]\n",
    "df4=mydata[mydata.cluster==4]\n",
    "\n",
    "\n",
    "plt.scatter(df0.total_covid_19_tests,df0.confirmed,color='green')\n",
    "plt.scatter(df2.total_covid_19_tests,df2.confirmed,color='red')\n",
    "plt.scatter(df3.total_covid_19_tests,df3.confirmed,color='blue')\n",
    "plt.scatter(df4.total_covid_19_tests,df4.confirmed,color='yellow')\n",
    "plt.scatter(df1.total_covid_19_tests,df1.confirmed,color='black')\n",
    "\n"
   ]
  },
  {
   "cell_type": "code",
   "execution_count": null,
   "metadata": {},
   "outputs": [],
   "source": []
  }
 ],
 "metadata": {
  "kernelspec": {
   "display_name": "Python 3",
   "language": "python",
   "name": "python3"
  },
  "language_info": {
   "codemirror_mode": {
    "name": "ipython",
    "version": 3
   },
   "file_extension": ".py",
   "mimetype": "text/x-python",
   "name": "python",
   "nbconvert_exporter": "python",
   "pygments_lexer": "ipython3",
   "version": "3.7.6"
  }
 },
 "nbformat": 4,
 "nbformat_minor": 2
}
